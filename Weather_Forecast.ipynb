{
  "nbformat": 4,
  "nbformat_minor": 0,
  "metadata": {
    "colab": {
      "provenance": [],
      "authorship_tag": "ABX9TyNz1mz23bYLLrNGAjZDtnTI",
      "include_colab_link": true
    },
    "kernelspec": {
      "name": "python3",
      "display_name": "Python 3"
    },
    "language_info": {
      "name": "python"
    }
  },
  "cells": [
    {
      "cell_type": "markdown",
      "metadata": {
        "id": "view-in-github",
        "colab_type": "text"
      },
      "source": [
        "<a href=\"https://colab.research.google.com/github/aritradey-CS/Forecast-Table-Generator/blob/master/Weather_Forecast.ipynb\" target=\"_parent\"><img src=\"https://colab.research.google.com/assets/colab-badge.svg\" alt=\"Open In Colab\"/></a>"
      ]
    },
    {
      "cell_type": "code",
      "source": [
        "!pip install requests"
      ],
      "metadata": {
        "colab": {
          "base_uri": "https://localhost:8080/"
        },
        "id": "jI8Kc8JP6hZn",
        "outputId": "11407385-e6d3-4c4f-be67-83a1999eee2d"
      },
      "execution_count": 46,
      "outputs": [
        {
          "output_type": "stream",
          "name": "stdout",
          "text": [
            "Looking in indexes: https://pypi.org/simple, https://us-python.pkg.dev/colab-wheels/public/simple/\n",
            "Requirement already satisfied: requests in /usr/local/lib/python3.10/dist-packages (2.27.1)\n",
            "Requirement already satisfied: urllib3<1.27,>=1.21.1 in /usr/local/lib/python3.10/dist-packages (from requests) (1.26.15)\n",
            "Requirement already satisfied: certifi>=2017.4.17 in /usr/local/lib/python3.10/dist-packages (from requests) (2022.12.7)\n",
            "Requirement already satisfied: charset-normalizer~=2.0.0 in /usr/local/lib/python3.10/dist-packages (from requests) (2.0.12)\n",
            "Requirement already satisfied: idna<4,>=2.5 in /usr/local/lib/python3.10/dist-packages (from requests) (3.4)\n"
          ]
        }
      ]
    },
    {
      "cell_type": "code",
      "execution_count": 47,
      "metadata": {
        "id": "DAi7Ah4z4xNU"
      },
      "outputs": [],
      "source": [
        "# import requests\n",
        "# import json\n",
        "# from datetime import datetime, timedelta\n",
        "\n",
        "# API_KEY = '<e9e8456d9b7bd69b36f452fdeff49419>'\n",
        "# API_KEY = '<34fde525f40d4dd2a421eb0ce530c4a0>'\n",
        "# API_KEY = '<88FEGQqi4ytcwIeuepny5TtibyBaIA3y>'\n",
        "\n",
        "\n",
        "\n",
        "# def get_weather_forecast(location):\n",
        "#     url = f'https://api.weatherapi.com/v1/forecast.json?key={API_KEY}&q={location}&days=7'\n",
        "#     response = requests.get(url)\n",
        "\n",
        "#     if response.status_code == 200:\n",
        "#         forecast_data = response.json()\n",
        "#         return forecast_data\n",
        "#     else:\n",
        "#         print(\"Failed to retrieve weather forecast.\")\n",
        "\n",
        "#         return None\n",
        "\n",
        "# def display_weather_forecast(forecast_data):\n",
        "#     if forecast_data is not None:\n",
        "#         forecast_days = forecast_data['forecast']['forecastday']\n",
        "#         print(\"Weather Forecast for the next 7 days:\")\n",
        "#         print(\"-------------------------------------\")\n",
        "\n",
        "#         for day in forecast_days:\n",
        "#             date = datetime.strptime(day['date'], \"%Y-%m-%d\")\n",
        "#             temperature = day['day']['avgtemp_c']\n",
        "#             condition = day['day']['condition']['text']\n",
        "\n",
        "#             print(f\"{date.strftime('%A')}: {temperature}°C, {condition}\")\n",
        "#     else:\n",
        "#         print(\"No weather forecast data available.\")\n",
        "\n",
        "# def save_weather_forecast(forecast_data):\n",
        "#     if forecast_data is not None:\n",
        "#         forecast_days = forecast_data['forecast']['forecastday']\n",
        "\n",
        "#         with open('weather_forecast.txt', 'w') as file:\n",
        "#             file.write(\"Weather Forecast for the next 7 days:\\n\")\n",
        "#             file.write(\"-------------------------------------\\n\")\n",
        "\n",
        "#             for day in forecast_days:\n",
        "#                 date = datetime.strptime(day['date'], \"%Y-%m-%d\")\n",
        "#                 temperature = day['day']['avgtemp_c']\n",
        "#                 condition = day['day']['condition']['text']\n",
        "\n",
        "#                 file.write(f\"{date.strftime('%A')}: {temperature}°C, {condition}\\n\")\n",
        "\n",
        "#         print(\"Weather forecast saved to 'weather_forecast.txt' file.\")\n",
        "#     else:\n",
        "#         print(\"No weather forecast data available.\")\n",
        "\n",
        "\n",
        "\n",
        "# def get_user_location():\n",
        "#     return input(\"Enter location: \")\n",
        "\n",
        "# location = get_user_location()\n",
        "# forecast_data = get_weather_forecast(location)\n",
        "# display_weather_forecast(forecast_data)\n",
        "# save_weather_forecast(forecast_data)\n"
      ]
    },
    {
      "cell_type": "markdown",
      "source": [
        "Displaying current weather data"
      ],
      "metadata": {
        "id": "Uec3pe5FIhCH"
      }
    },
    {
      "cell_type": "code",
      "source": [
        "# # import required modules\n",
        "# import requests, json\n",
        "\n",
        "# # Enter your API key here\n",
        "# api_key = \"e9e8456d9b7bd69b36f452fdeff49419\"\n",
        "\n",
        "# # base_url variable to store url\n",
        "# base_url = \"http://api.openweathermap.org/data/2.5/weather?\"\n",
        "\n",
        "# # Give city name\n",
        "# city_name = input(\"Enter city name : \")\n",
        "\n",
        "# # complete_url variable to store\n",
        "# # complete url address\n",
        "# complete_url = base_url + \"appid=\" + api_key + \"&q=\" + city_name\n",
        "\n",
        "# # get method of requests module\n",
        "# # return response object\n",
        "# response = requests.get(complete_url)\n",
        "\n",
        "# # json method of response object\n",
        "# # convert json format data into\n",
        "# # python format data\n",
        "# x = response.json()\n",
        "\n",
        "# # Now x contains list of nested dictionaries\n",
        "# # Check the value of \"cod\" key is equal to\n",
        "# # \"404\", means city is found otherwise,\n",
        "# # city is not found\n",
        "# if x[\"cod\"] != \"404\":\n",
        "\n",
        "# \t# store the value of \"main\"\n",
        "# \t# key in variable y\n",
        "# \ty = x[\"main\"]\n",
        "\n",
        "# \t# store the value corresponding\n",
        "# \t# to the \"temp\" key of y\n",
        "# \tcurrent_temperature = y[\"temp\"]\n",
        "\n",
        "# \t# store the value corresponding\n",
        "# \t# to the \"pressure\" key of y\n",
        "# \tcurrent_pressure = y[\"pressure\"]\n",
        "\n",
        "# \t# store the value corresponding\n",
        "# \t# to the \"humidity\" key of y\n",
        "# \tcurrent_humidity = y[\"humidity\"]\n",
        "\n",
        "# \t# store the value of \"weather\"\n",
        "# \t# key in variable z\n",
        "# \tz = x[\"weather\"]\n",
        "\n",
        "# \t# store the value corresponding\n",
        "# \t# to the \"description\" key at\n",
        "# \t# the 0th index of z\n",
        "# \tweather_description = z[0][\"description\"]\n",
        "\n",
        "# \t# print following values\n",
        "# \tprint(\" Temperature (in kelvin unit) = \" +\n",
        "# \t\t\t\t\tstr(current_temperature) +\n",
        "# \t\t\"\\n atmospheric pressure (in hPa unit) = \" +\n",
        "# \t\t\t\t\tstr(current_pressure) +\n",
        "# \t\t\"\\n humidity (in percentage) = \" +\n",
        "# \t\t\t\t\tstr(current_humidity) +\n",
        "# \t\t\"\\n description = \" +\n",
        "# \t\t\t\t\tstr(weather_description))\n",
        "\n",
        "# else:\n",
        "# \tprint(\" City Not Found \")\n"
      ],
      "metadata": {
        "id": "JjlXnbRFH0p9"
      },
      "execution_count": 48,
      "outputs": []
    },
    {
      "cell_type": "code",
      "source": [
        "# import requests\n",
        "\n",
        "# # Enter your API key here\n",
        "# api_key = \"e9e8456d9b7bd69b36f452fdeff49419\"\n",
        "\n",
        "# # base_url variable to store the URL\n",
        "# base_url = \"http://api.openweathermap.org/data/2.5/forecast?\"\n",
        "\n",
        "# # Ask for the city name from the user\n",
        "# city_name = input(\"Enter city name: \")\n",
        "\n",
        "# # complete_url variable to store the complete URL address\n",
        "# complete_url = base_url + \"appid=\" + api_key + \"&q=\" + city_name\n",
        "\n",
        "# # Send the GET request to the API\n",
        "# response = requests.get(complete_url)\n",
        "\n",
        "# # Convert the response to JSON format\n",
        "# data = response.json()\n",
        "\n",
        "# # Check if the city is found in the response data\n",
        "# if data[\"cod\"] != \"404\":\n",
        "\n",
        "#     # Get the list of forecasted weather data\n",
        "#     forecast_list = data[\"list\"]\n",
        "\n",
        "#     # Print the weather forecast for each day\n",
        "#     for forecast in forecast_list:\n",
        "#         date_time = forecast[\"dt_txt\"]\n",
        "#         temperature = forecast[\"main\"][\"temp\"]\n",
        "#         weather_description = forecast[\"weather\"][0][\"description\"]\n",
        "\n",
        "#         print(\"Date & Time:\", date_time)\n",
        "#         print(\"Temperature (in Kelvin):\", temperature)\n",
        "#         print(\"Weather Description:\", weather_description)\n",
        "#         print(\"-----------------------------------\")\n",
        "\n",
        "# else:\n",
        "#     print(\"City not found\")\n"
      ],
      "metadata": {
        "id": "7yWF2oLNJesO"
      },
      "execution_count": 49,
      "outputs": []
    },
    {
      "cell_type": "markdown",
      "source": [
        "It sucsessfully displaying next 7 days weather forecast"
      ],
      "metadata": {
        "id": "uzmKz6sMJozC"
      }
    },
    {
      "cell_type": "code",
      "source": [
        "import requests\n",
        "\n",
        "# Enter your API key here\n",
        "api_key = \"88FEGQqi4ytcwIeuepny5TtibyBaIA3y\"\n",
        "\n",
        "# base_url variable to store the URL\n",
        "base_url = \"http://api.openweathermap.org/data/2.5/forecast?\"\n",
        "\n",
        "# Ask for the city name from the user\n",
        "city_name = input(\"Enter city name: \")\n",
        "\n",
        "# complete_url variable to store the complete URL address\n",
        "complete_url = base_url + \"appid=\" + api_key + \"&q=\" + city_name\n",
        "\n",
        "# Send the GET request to the API\n",
        "response = requests.get(complete_url)\n",
        "\n",
        "# Convert the response to JSON format\n",
        "data = response.json()\n",
        "\n",
        "try:\n",
        "    # Check if the city is found in the response data\n",
        "    if data[\"cod\"] != \"404\":\n",
        "\n",
        "        # Get the list of forecasted weather data\n",
        "        forecast_list = data.get(\"list\")\n",
        "\n",
        "        if forecast_list is None:\n",
        "            raise KeyError(\"list key not found in the response.\")\n",
        "\n",
        "        # Create a list to store the forecast data for the next 7 days\n",
        "        forecast_data = []\n",
        "\n",
        "        # Iterate over the forecast list and extract data for the next 7 days\n",
        "        for forecast in forecast_list:\n",
        "            date_time = forecast[\"dt_txt\"]\n",
        "            date = date_time.split()[0]\n",
        "            time = date_time.split()[1]\n",
        "            temperature = forecast[\"main\"][\"temp\"]\n",
        "            weather_description = forecast[\"weather\"][0][\"description\"]\n",
        "\n",
        "            # Check if the time is the desired time (e.g., 12:00:00)\n",
        "            if time == \"12:00:00\":\n",
        "                forecast_data.append({\"Date\": date, \"Temperature (in Kelvin)\": temperature, \"Weather Description\": weather_description})\n",
        "\n",
        "        # Check if forecast data is available\n",
        "        if len(forecast_data) == 0:\n",
        "            raise ValueError(\"No forecast data available for the next 7 days.\")\n",
        "\n",
        "        # Print the forecast data for the next 7 days\n",
        "        for data in forecast_data:\n",
        "            print(\"Date:\", data[\"Date\"])\n",
        "            print(\"Temperature (in Kelvin):\", data[\"Temperature (in Kelvin)\"])\n",
        "            print(\"Weather Description:\", data[\"Weather Description\"])\n",
        "            print(\"-----------------------------------\")\n",
        "\n",
        "    else:\n",
        "        print(\"City not found\")\n",
        "\n",
        "except (KeyError, ValueError) as e:\n",
        "    print(\"Failed to retrieve weather forecast.\")\n",
        "    print(str(e))\n"
      ],
      "metadata": {
        "colab": {
          "base_uri": "https://localhost:8080/"
        },
        "id": "LXZK0j4aOkMB",
        "outputId": "e3b0a2d5-90c0-4103-9068-a7961c1fbb31"
      },
      "execution_count": 53,
      "outputs": [
        {
          "output_type": "stream",
          "name": "stdout",
          "text": [
            "Enter city name: Kolkata\n",
            "Failed to retrieve weather forecast.\n",
            "'list key not found in the response.'\n"
          ]
        }
      ]
    }
  ]
}