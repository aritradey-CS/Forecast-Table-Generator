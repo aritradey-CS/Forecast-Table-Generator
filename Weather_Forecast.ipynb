{
  "nbformat": 4,
  "nbformat_minor": 0,
  "metadata": {
    "colab": {
      "provenance": [],
      "authorship_tag": "ABX9TyOdc8tQURZsYrvcHP+6fP6K",
      "include_colab_link": true
    },
    "kernelspec": {
      "name": "python3",
      "display_name": "Python 3"
    },
    "language_info": {
      "name": "python"
    }
  },
  "cells": [
    {
      "cell_type": "markdown",
      "metadata": {
        "id": "view-in-github",
        "colab_type": "text"
      },
      "source": [
        "<a href=\"https://colab.research.google.com/github/aritradey-CS/Forecast-Table-Generator/blob/master/Weather_Forecast.ipynb\" target=\"_parent\"><img src=\"https://colab.research.google.com/assets/colab-badge.svg\" alt=\"Open In Colab\"/></a>"
      ]
    },
    {
      "cell_type": "code",
      "source": [
        "!pip install requests"
      ],
      "metadata": {
        "colab": {
          "base_uri": "https://localhost:8080/"
        },
        "id": "jI8Kc8JP6hZn",
        "outputId": "11407385-e6d3-4c4f-be67-83a1999eee2d"
      },
      "execution_count": 46,
      "outputs": [
        {
          "output_type": "stream",
          "name": "stdout",
          "text": [
            "Looking in indexes: https://pypi.org/simple, https://us-python.pkg.dev/colab-wheels/public/simple/\n",
            "Requirement already satisfied: requests in /usr/local/lib/python3.10/dist-packages (2.27.1)\n",
            "Requirement already satisfied: urllib3<1.27,>=1.21.1 in /usr/local/lib/python3.10/dist-packages (from requests) (1.26.15)\n",
            "Requirement already satisfied: certifi>=2017.4.17 in /usr/local/lib/python3.10/dist-packages (from requests) (2022.12.7)\n",
            "Requirement already satisfied: charset-normalizer~=2.0.0 in /usr/local/lib/python3.10/dist-packages (from requests) (2.0.12)\n",
            "Requirement already satisfied: idna<4,>=2.5 in /usr/local/lib/python3.10/dist-packages (from requests) (3.4)\n"
          ]
        }
      ]
    },
    {
      "cell_type": "markdown",
      "source": [
        "It successfully displaying next 5 days weather forecast can not more further for the restriction from API server side"
      ],
      "metadata": {
        "id": "uzmKz6sMJozC"
      }
    },
    {
      "cell_type": "markdown",
      "source": [
        "Task 1:\n",
        "\n",
        "Read the API documentation.\n",
        "Ask the location from the user.\n",
        "Send the request to the API to extract information such as temperature and weather conditions for the next 7 days from the current date.\n",
        "Add error handling to handle situations such as invalid user input or failed API requests.\n",
        "Print the information.\n"
      ],
      "metadata": {
        "id": "Io9rQycETQDp"
      }
    },
    {
      "cell_type": "code",
      "source": [
        "import requests\n",
        "\n",
        "# Enter your API key here\n",
        "api_key = \"e9e8456d9b7bd69b36f452fdeff49419\"\n",
        "\n",
        "# base_url variable to store the URL\n",
        "base_url = \"http://api.openweathermap.org/data/2.5/forecast?\"\n",
        "\n",
        "# Ask for the city name from the user\n",
        "city_name = input(\"Enter city name: \")\n",
        "\n",
        "# complete_url variable to store the complete URL address\n",
        "complete_url = base_url + \"appid=\" + api_key + \"&q=\" + city_name\n",
        "\n",
        "# Send the GET request to the API\n",
        "response = requests.get(complete_url)\n",
        "\n",
        "# Convert the response to JSON format\n",
        "data = response.json()\n",
        "\n",
        "# Check if the city is found in the response data\n",
        "if data[\"cod\"] != \"404\":\n",
        "\n",
        "    # Get the list of forecasted weather data\n",
        "    forecast_list = data[\"list\"]\n",
        "\n",
        "    # Create a list to store the forecast data for the next 7 days\n",
        "    forecast_data = []\n",
        "\n",
        "    # Iterate over the forecast list and extract data for the next 7 days\n",
        "    for forecast in forecast_list:\n",
        "        date_time = forecast[\"dt_txt\"]\n",
        "        date = date_time.split()[0]\n",
        "        time = date_time.split()[1]\n",
        "        temperature = forecast[\"main\"][\"temp\"]\n",
        "        weather_description = forecast[\"weather\"][0][\"description\"]\n",
        "\n",
        "        # Check if the time is the desired time (e.g., 12:00:00)\n",
        "        if time == \"12:00:00\":\n",
        "            forecast_data.append({\"Date\": date, \"Temperature (in Kelvin)\": temperature, \"Weather Description\": weather_description})\n",
        "\n",
        "        # Break the loop if we have collected data for the next 7 days\n",
        "        if len(forecast_data) == 7:\n",
        "            break\n",
        "\n",
        "    # Print the forecast data for the next 7 days\n",
        "    for data in forecast_data:\n",
        "        print(\"Date:\", data[\"Date\"])\n",
        "        print(\"Temperature (in Kelvin):\", data[\"Temperature (in Kelvin)\"])\n",
        "        print(\"Weather Description:\", data[\"Weather Description\"])\n",
        "        print(\"-----------------------------------\")\n",
        "\n",
        "else:\n",
        "    print(\"City not found\")\n"
      ],
      "metadata": {
        "colab": {
          "base_uri": "https://localhost:8080/"
        },
        "id": "LXZK0j4aOkMB",
        "outputId": "cc9aaa25-563e-4c9e-d367-663f5066a147"
      },
      "execution_count": 61,
      "outputs": [
        {
          "output_type": "stream",
          "name": "stdout",
          "text": [
            "Enter city name: Goa\n",
            "Date: 2023-06-13\n",
            "Temperature (in Kelvin): 302.69\n",
            "Weather Description: light rain\n",
            "-----------------------------------\n",
            "Date: 2023-06-14\n",
            "Temperature (in Kelvin): 301.44\n",
            "Weather Description: light rain\n",
            "-----------------------------------\n",
            "Date: 2023-06-15\n",
            "Temperature (in Kelvin): 302.45\n",
            "Weather Description: light rain\n",
            "-----------------------------------\n",
            "Date: 2023-06-16\n",
            "Temperature (in Kelvin): 303.17\n",
            "Weather Description: light rain\n",
            "-----------------------------------\n",
            "Date: 2023-06-17\n",
            "Temperature (in Kelvin): 303.68\n",
            "Weather Description: light rain\n",
            "-----------------------------------\n"
          ]
        }
      ]
    }
  ]
}