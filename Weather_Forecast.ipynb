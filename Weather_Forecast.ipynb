{
  "nbformat": 4,
  "nbformat_minor": 0,
  "metadata": {
    "colab": {
      "provenance": [],
      "mount_file_id": "1JVQQKOqdx-VkA574q7NJC1IMw772Gwhd",
      "authorship_tag": "ABX9TyMoIFB1W1snoXSq7ARKHgE8",
      "include_colab_link": true
    },
    "kernelspec": {
      "name": "python3",
      "display_name": "Python 3"
    },
    "language_info": {
      "name": "python"
    }
  },
  "cells": [
    {
      "cell_type": "markdown",
      "metadata": {
        "id": "view-in-github",
        "colab_type": "text"
      },
      "source": [
        "<a href=\"https://colab.research.google.com/github/aritradey-CS/Forecast-Table-Generator/blob/master/Weather_Forecast.ipynb\" target=\"_parent\"><img src=\"https://colab.research.google.com/assets/colab-badge.svg\" alt=\"Open In Colab\"/></a>"
      ]
    },
    {
      "cell_type": "markdown",
      "source": [
        "Task 1:\n",
        "\n",
        "Read the API documentation.\n",
        "Ask the location from the user.\n",
        "Send the request to the API to extract information such as temperature and weather conditions for the next 7 days from the current date.\n",
        "Add error handling to handle situations such as invalid user input or failed API requests.\n",
        "Print the information.\n"
      ],
      "metadata": {
        "id": "Io9rQycETQDp"
      }
    },
    {
      "cell_type": "code",
      "source": [
        "!pip install requests"
      ],
      "metadata": {
        "colab": {
          "base_uri": "https://localhost:8080/"
        },
        "id": "jI8Kc8JP6hZn",
        "outputId": "11407385-e6d3-4c4f-be67-83a1999eee2d"
      },
      "execution_count": 46,
      "outputs": [
        {
          "output_type": "stream",
          "name": "stdout",
          "text": [
            "Looking in indexes: https://pypi.org/simple, https://us-python.pkg.dev/colab-wheels/public/simple/\n",
            "Requirement already satisfied: requests in /usr/local/lib/python3.10/dist-packages (2.27.1)\n",
            "Requirement already satisfied: urllib3<1.27,>=1.21.1 in /usr/local/lib/python3.10/dist-packages (from requests) (1.26.15)\n",
            "Requirement already satisfied: certifi>=2017.4.17 in /usr/local/lib/python3.10/dist-packages (from requests) (2022.12.7)\n",
            "Requirement already satisfied: charset-normalizer~=2.0.0 in /usr/local/lib/python3.10/dist-packages (from requests) (2.0.12)\n",
            "Requirement already satisfied: idna<4,>=2.5 in /usr/local/lib/python3.10/dist-packages (from requests) (3.4)\n"
          ]
        }
      ]
    },
    {
      "cell_type": "code",
      "source": [
        "import requests\n",
        "\n",
        "api_key = \"e9e8456d9b7bd69b36f452fdeff49419\"\n",
        "base_url = \"http://api.openweathermap.org/data/2.5/forecast?\"\n",
        "\n",
        "city_name = input(\"Enter city name: \")\n",
        "complete_url = base_url + \"appid=\" + api_key + \"&q=\" + city_name\n",
        "response = requests.get(complete_url)\n",
        "data = response.json()\n",
        "\n",
        "if data[\"cod\"] != \"404\":\n",
        "    forecast_list = data[\"list\"]\n",
        "    forecast_data = []\n",
        "\n",
        "    for forecast in forecast_list:\n",
        "        date_time = forecast[\"dt_txt\"]\n",
        "        date = date_time.split()[0]\n",
        "        time = date_time.split()[1]\n",
        "        temperature_kelvin = forecast[\"main\"][\"temp\"]\n",
        "        temperature_celsius = round(temperature_kelvin - 273.15, 2)\n",
        "        weather_description = forecast[\"weather\"][0][\"description\"]\n",
        "\n",
        "        if time == \"12:00:00\":\n",
        "            forecast_data.append({\"Date\": date, \"Temperature (in Celsius)\": temperature_celsius, \"Weather Description\": weather_description})\n",
        "\n",
        "        if len(forecast_data) == 7:\n",
        "            break\n",
        "\n",
        "    for data in forecast_data:\n",
        "        print(\"Date:\", data[\"Date\"])\n",
        "        print(\"Temperature (in Celsius):\", data[\"Temperature (in Celsius)\"])\n",
        "        print(\"Weather Description:\", data[\"Weather Description\"])\n",
        "        print(\"-----------------------------------\")\n",
        "\n",
        "else:\n",
        "    print(\"City not found\")\n"
      ],
      "metadata": {
        "colab": {
          "base_uri": "https://localhost:8080/"
        },
        "id": "lEwY-Xa1VhwA",
        "outputId": "b651d2cf-fc92-4444-82d9-12e4c84732c6"
      },
      "execution_count": 66,
      "outputs": [
        {
          "output_type": "stream",
          "name": "stdout",
          "text": [
            "Enter city name: Mumbai\n",
            "Date: 2023-06-13\n",
            "Temperature (in Celsius): 30.42\n",
            "Weather Description: light rain\n",
            "-----------------------------------\n",
            "Date: 2023-06-14\n",
            "Temperature (in Celsius): 29.97\n",
            "Weather Description: light rain\n",
            "-----------------------------------\n",
            "Date: 2023-06-15\n",
            "Temperature (in Celsius): 29.91\n",
            "Weather Description: light rain\n",
            "-----------------------------------\n",
            "Date: 2023-06-16\n",
            "Temperature (in Celsius): 30.02\n",
            "Weather Description: light rain\n",
            "-----------------------------------\n",
            "Date: 2023-06-17\n",
            "Temperature (in Celsius): 30.19\n",
            "Weather Description: light rain\n",
            "-----------------------------------\n"
          ]
        }
      ]
    },
    {
      "cell_type": "markdown",
      "source": [
        "Task 2:\n",
        "\n",
        "Modify the code to create a new file with the name in the format “forecase_<location>”\n",
        "Write the extracted information in the new file in a tabular manner.\n"
      ],
      "metadata": {
        "id": "Tu_3qlDwWnp4"
      }
    },
    {
      "cell_type": "code",
      "source": [
        "import requests\n",
        "\n",
        "api_key = \"e9e8456d9b7bd69b36f452fdeff49419\"\n",
        "base_url = \"http://api.openweathermap.org/data/2.5/forecast?\"\n",
        "\n",
        "city_name = input(\"Enter city name: \")\n",
        "complete_url = base_url + \"appid=\" + api_key + \"&q=\" + city_name\n",
        "response = requests.get(complete_url)\n",
        "data = response.json()\n",
        "\n",
        "if data[\"cod\"] != \"404\":\n",
        "    forecast_list = data[\"list\"]\n",
        "    forecast_data = []\n",
        "\n",
        "    for forecast in forecast_list:\n",
        "        date_time = forecast[\"dt_txt\"]\n",
        "        date = date_time.split()[0]\n",
        "        time = date_time.split()[1]\n",
        "        temperature_kelvin = forecast[\"main\"][\"temp\"]\n",
        "        temperature_celsius = round(temperature_kelvin - 273.15, 2)\n",
        "        weather_description = forecast[\"weather\"][0][\"description\"]\n",
        "\n",
        "        if time == \"12:00:00\":\n",
        "            forecast_data.append({\"Date\": date, \"Temperature (in Celsius)\": temperature_celsius, \"Weather Description\": weather_description})\n",
        "\n",
        "        if len(forecast_data) == 7:\n",
        "            break\n",
        "\n",
        "    file_name = f\"forecast_{city_name}.txt\"\n",
        "    with open(file_name, \"w\") as file:\n",
        "        file.write(\"Date\\tTemperature (in Celsius)\\tWeather Description\\n\")\n",
        "        for data in forecast_data:\n",
        "            file.write(f\"{data['Date']}\\t{data['Temperature (in Celsius)']}\\t{data['Weather Description']}\\n\")\n",
        "\n",
        "    print(\"Weather forecast saved to\", file_name)\n",
        "else:\n",
        "    print(\"City not found\")\n"
      ],
      "metadata": {
        "colab": {
          "base_uri": "https://localhost:8080/"
        },
        "id": "JyB76vjFVHNA",
        "outputId": "f7116def-e158-459a-d0d3-1792f08a83ae"
      },
      "execution_count": 67,
      "outputs": [
        {
          "output_type": "stream",
          "name": "stdout",
          "text": [
            "Enter city name: Kolkata\n",
            "Weather forecast saved to forecast_Kolkata.txt\n"
          ]
        }
      ]
    },
    {
      "cell_type": "markdown",
      "source": [
        " **It Successfully displaying the weather forecast data and stored in an separate text file, the data is of next 5 days weather forecast it can not go more further for the restriction from API server side**"
      ],
      "metadata": {
        "id": "uzmKz6sMJozC"
      }
    },
    {
      "cell_type": "code",
      "source": [
        "!zip -r '/content/drive/MyDrive/Colab Notebooks/Weather_Forecast.ipynb.zip' '/content/drive/MyDrive/Colab Notebooks/Weather_Forecast.ipynb'"
      ],
      "metadata": {
        "colab": {
          "base_uri": "https://localhost:8080/"
        },
        "id": "17zM_5JGY7A3",
        "outputId": "63971ac7-d303-4bf0-dc21-ee809ca36c60"
      },
      "execution_count": 72,
      "outputs": [
        {
          "output_type": "stream",
          "name": "stdout",
          "text": [
            "  adding: content/drive/MyDrive/Colab Notebooks/Weather_Forecast.ipynb (deflated 72%)\n"
          ]
        }
      ]
    },
    {
      "cell_type": "markdown",
      "source": [
        "/content/drive/MyDrive/Colab Notebooks/Weather_Forecast.ipynb"
      ],
      "metadata": {
        "id": "I97QD8DEb1aK"
      }
    }
  ]
}