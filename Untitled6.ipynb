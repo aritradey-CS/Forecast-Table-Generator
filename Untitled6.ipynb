{
  "nbformat": 4,
  "nbformat_minor": 0,
  "metadata": {
    "colab": {
      "provenance": [],
      "authorship_tag": "ABX9TyP+fsw7zY31b8BVY/aP/Lqi",
      "include_colab_link": true
    },
    "kernelspec": {
      "name": "python3",
      "display_name": "Python 3"
    },
    "language_info": {
      "name": "python"
    }
  },
  "cells": [
    {
      "cell_type": "markdown",
      "metadata": {
        "id": "view-in-github",
        "colab_type": "text"
      },
      "source": [
        "<a href=\"https://colab.research.google.com/github/aritradey-CS/Forecast-Table-Generator/blob/master/Untitled6.ipynb\" target=\"_parent\"><img src=\"https://colab.research.google.com/assets/colab-badge.svg\" alt=\"Open In Colab\"/></a>"
      ]
    },
    {
      "cell_type": "code",
      "execution_count": null,
      "metadata": {
        "id": "DAi7Ah4z4xNU"
      },
      "outputs": [],
      "source": [
        "!pip install python-weather\n",
        "import python_weather\n",
        "import asyncio\n",
        "import csv\n",
        "\n",
        "async def get_weather_forecast(location):\n",
        "    # Declare the client with the default unit set to metric system\n",
        "    async with python_weather.Client() as client:\n",
        "        # Fetch the weather forecast for the given location\n",
        "        weather = await client.find(location)\n",
        "\n",
        "        # Prepare the forecast data\n",
        "        forecast_data = []\n",
        "        for forecast in weather.forecasts:\n",
        "            forecast_data.append({\n",
        "                'Date': forecast.date.strftime('%Y-%m-%d'),\n",
        "                'Temperature': forecast.temperature,\n",
        "                'Weather Condition': forecast.sky_text\n",
        "            })\n",
        "\n",
        "        return forecast_data\n",
        "\n",
        "def save_forecast_data(data):\n",
        "    # Save the forecast data in a CSV file\n",
        "    with open('weather_forecast.csv', 'w', newline='') as file:\n",
        "        writer = csv.DictWriter(file, fieldnames=data[0].keys())\n",
        "        writer.writeheader()\n",
        "        writer.writerows(data)\n",
        "\n",
        "async def main():\n",
        "    # Ask the user for the location\n",
        "    location = input('Enter a location: ')\n",
        "\n",
        "    try:\n",
        "        # Get the weather forecast for the next 7 days\n",
        "        forecast = await get_weather_forecast(location)\n",
        "\n",
        "        # Print the forecasted temperature and weather conditions for each day\n",
        "        for day in forecast:\n",
        "            print(f\"Date: {day['Date']}, Temperature: {day['Temperature']}°C, Weather Condition: {day['Weather Condition']}\")\n",
        "\n",
        "        # Save the forecast data in a file\n",
        "        save_forecast_data(forecast)\n",
        "\n",
        "    except python_weather.exceptions.BadResponseError:\n",
        "        print('Error: Failed to retrieve weather data.')\n",
        "    except Exception as e:\n",
        "        print(f'Error: {str(e)}')\n",
        "\n",
        " async.run(main())\n"
      ]
    }
  ]
}